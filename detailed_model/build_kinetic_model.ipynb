{
 "cells": [
  {
   "cell_type": "markdown",
   "metadata": {},
   "source": [
    "# Build kinetic models from the tfa model and sampling"
   ]
  },
  {
   "cell_type": "code",
   "execution_count": 1,
   "metadata": {},
   "outputs": [
    {
     "name": "stderr",
     "output_type": "stream",
     "text": [
      "2025-07-31 16:21:06,295 - thermomodel_Recon3thermoCurated - continuous - INFO - # Model initialized with units kcal/mol and temperature 298.15 K\n"
     ]
    }
   ],
   "source": [
    "# Load the tfa model \n",
    "from pytfa.io.json import load_json_model\n",
    "# Redox corrected model\n",
    "model_file = 'reduced_model_ETC_core_20250228-213124_continuous.json'\n",
    "tmodel = load_json_model(model_file)\n",
    "sol = tmodel.optimize()"
   ]
  },
  {
   "cell_type": "code",
   "execution_count": 2,
   "metadata": {},
   "outputs": [
    {
     "name": "stderr",
     "output_type": "stream",
     "text": [
      "2025-07-31 16:21:06,831 - Unnamed - WARNING - Metabolite bhb_e in pyTFA model is not part of any reaction and is omitted in the SKiMpy model \n",
      "2025-07-31 16:21:06,832 - Unnamed - WARNING - Metabolite hdca_e in pyTFA model is not part of any reaction and is omitted in the SKiMpy model \n",
      "2025-07-31 16:21:06,833 - Unnamed - WARNING - Metabolite co2_e in pyTFA model is not part of any reaction and is omitted in the SKiMpy model \n",
      "2025-07-31 16:21:06,833 - Unnamed - WARNING - Metabolite h_e in pyTFA model is not part of any reaction and is omitted in the SKiMpy model \n",
      "2025-07-31 16:21:06,834 - Unnamed - WARNING - Metabolite lac_L_e in pyTFA model is not part of any reaction and is omitted in the SKiMpy model \n",
      "2025-07-31 16:21:06,835 - Unnamed - WARNING - Metabolite o2_e in pyTFA model is not part of any reaction and is omitted in the SKiMpy model \n",
      "2025-07-31 16:21:06,835 - Unnamed - WARNING - Metabolite glc_D_e in pyTFA model is not part of any reaction and is omitted in the SKiMpy model \n"
     ]
    }
   ],
   "source": [
    "# Import the a kinetic model \n",
    "from skimpy.io.generate_from_pytfa import FromPyTFA\n",
    "\n",
    "small_molecules = ['h_c', 'h_e','h_i', 'h_m', 'na1_e', 'na1_c', 'na1_m','k_e','k_c']\n",
    "\n",
    "model_gen = FromPyTFA(small_molecules=small_molecules, max_revesible_deltag_0=1e3,)\n",
    "\n",
    "kmodel = model_gen.import_model(tmodel, sol.raw)\n",
    "\n",
    "kmodel.name = \"muscle_kinetic_model\"\n"
   ]
  },
  {
   "cell_type": "code",
   "execution_count": 3,
   "metadata": {},
   "outputs": [
    {
     "name": "stdout",
     "output_type": "stream",
     "text": [
      "bhb_e\n",
      "hdca_e\n",
      "co2_e\n",
      "h_e\n",
      "met h2o_e not in model\n",
      "lac_L_e\n",
      "o2_e\n",
      "glc_D_e\n"
     ]
    }
   ],
   "source": [
    "# Impose boundary conditions\n",
    "\n",
    "from skimpy.core.modifiers import ConstantConcentration\n",
    "\n",
    "for r in tmodel.boundary:\n",
    "    met = [m for m in r.metabolites][0]\n",
    "    try:\n",
    "        k_met = kmodel.reactants[met.id]\n",
    "        boundary = ConstantConcentration(k_met)\n",
    "        kmodel.add_boundary_condition(boundary)\n",
    "        print(k_met)\n",
    "    except:\n",
    "        print(f'met {met} not in model')\n",
    "\n",
    "# Also assume intracellular sodium to be constant\n",
    "# boundary = ConstantConcentration(kmodel.reactants['na1_c']) \n",
    "# kmodel.add_boundary_condition(boundary)"
   ]
  },
  {
   "cell_type": "code",
   "execution_count": 4,
   "metadata": {},
   "outputs": [
    {
     "data": {
      "text/plain": [
       "True"
      ]
     },
     "execution_count": 4,
     "metadata": {},
     "output_type": "execute_result"
    }
   ],
   "source": [
    "# Export the model to yaml\n",
    "from skimpy.io.yaml import export_to_yaml\n",
    "export_to_yaml(kmodel, model_file.replace(\"_continuous.json\", \"_kinetic.yml\") )\n"
   ]
  }
 ],
 "metadata": {
  "kernelspec": {
   "display_name": "skimpy-env",
   "language": "python",
   "name": "python3"
  },
  "language_info": {
   "codemirror_mode": {
    "name": "ipython",
    "version": 3
   },
   "file_extension": ".py",
   "mimetype": "text/x-python",
   "name": "python",
   "nbconvert_exporter": "python",
   "pygments_lexer": "ipython3",
   "version": "3.8.19"
  }
 },
 "nbformat": 4,
 "nbformat_minor": 2
}
